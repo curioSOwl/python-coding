{
 "cells": [
  {
   "cell_type": "markdown",
   "metadata": {},
   "source": [
    "FOR LOOP"
   ]
  },
  {
   "cell_type": "code",
   "execution_count": null,
   "metadata": {},
   "outputs": [],
   "source": [
    "x=\"testinput\"\n",
    "for i in x:    #x is any sequence (e.g. list, string etc.)\n",
    "    print(i)"
   ]
  },
  {
   "cell_type": "code",
   "execution_count": null,
   "metadata": {},
   "outputs": [],
   "source": [
    "for i in range(0,5,1):\n",
    "    print(i)"
   ]
  },
  {
   "cell_type": "code",
   "execution_count": null,
   "metadata": {},
   "outputs": [],
   "source": [
    "for i in range(5):   #by default start=0 and step=1\n",
    "    print(i)"
   ]
  },
  {
   "cell_type": "code",
   "execution_count": null,
   "metadata": {},
   "outputs": [],
   "source": [
    "for i in range(5,0,-1):\n",
    "    print(i)"
   ]
  },
  {
   "cell_type": "code",
   "execution_count": null,
   "metadata": {},
   "outputs": [],
   "source": [
    "#print multiple of three between a and b\n",
    "a=int(input())\n",
    "b=int(input())\n",
    "print(\"between: \",a,\"-\",b)\n",
    "print()\n",
    "\n",
    "if(a%3==0):\n",
    "    s=a\n",
    "elif(a%3==1):\n",
    "    s=a+2\n",
    "elif(a%3==2):\n",
    "    s=a+1\n",
    "for i in range(s,b,3):\n",
    "    print(i)\n"
   ]
  },
  {
   "cell_type": "code",
   "execution_count": null,
   "metadata": {},
   "outputs": [],
   "source": [
    "#check prime or not\n",
    "n=int(input())\n",
    "print(n)\n",
    "flag=0\n",
    "for i in range(2,n,1):\n",
    "    if(n%i==0):\n",
    "        flag=1\n",
    "        break\n",
    "if flag==1:\n",
    "    print(\"not prime\")\n",
    "else:\n",
    "    print(\"prime\")"
   ]
  },
  {
   "cell_type": "markdown",
   "metadata": {},
   "source": [
    "#print pattern"
   ]
  },
  {
   "cell_type": "markdown",
   "metadata": {},
   "source": [
    "   1\n",
    "  232\n",
    " 34543\n",
    "4567654"
   ]
  },
  {
   "cell_type": "code",
   "execution_count": null,
   "metadata": {},
   "outputs": [],
   "source": [
    "n=int(input())\n",
    "for i in range(1,n+1):\n",
    "    for j in range(1,n-i):\n",
    "        print(\" \",end=\"\")\n",
    "    for j in range(1,i+1):\n",
    "        print(i+j-1,end=\"\")\n",
    "    for j in range(1,i):\n",
    "        print(2*(i-1)-j+1,end=\"\")\n",
    "    print()\n",
    "    \n"
   ]
  },
  {
   "cell_type": "code",
   "execution_count": 19,
   "metadata": {},
   "outputs": [
    {
     "name": "stdout",
     "output_type": "stream",
     "text": [
      "inside while\n",
      "inside while\n",
      "inside while\n",
      "terminated from while and now executing else...\n"
     ]
    }
   ],
   "source": [
    "#else with loop\n",
    "i=1\n",
    "while i<=3:\n",
    "    print(\"inside while\")\n",
    "    i=i+1\n",
    "else:\n",
    "    print(\"terminated from while and now executing else...\")"
   ]
  },
  {
   "cell_type": "code",
   "execution_count": 24,
   "metadata": {},
   "outputs": [
    {
     "name": "stdout",
     "output_type": "stream",
     "text": [
      "inside for\n",
      "inside for\n",
      "for loop terminated and now inside else...\n"
     ]
    }
   ],
   "source": [
    "for i in range(2):\n",
    "    print(\"inside for\")\n",
    "else:  \n",
    "    print(\"for loop terminated and now inside else...\")"
   ]
  },
  {
   "cell_type": "code",
   "execution_count": 25,
   "metadata": {},
   "outputs": [
    {
     "name": "stdout",
     "output_type": "stream",
     "text": [
      "inside for\n",
      "inside for\n",
      "break statement\n"
     ]
    }
   ],
   "source": [
    "for i in range(2):\n",
    "    print(\"inside for\")\n",
    "    if(i==1):\n",
    "        print(\"break statement\")\n",
    "        break\n",
    "else:    #gets only execute if for loop gets terminated by itself and not by break.\n",
    "    print(\"for loop terminated and now inside else...\")"
   ]
  },
  {
   "cell_type": "code",
   "execution_count": 27,
   "metadata": {},
   "outputs": [
    {
     "name": "stdout",
     "output_type": "stream",
     "text": [
      "Enter the number:  3\n",
      "3  is a prime number\n"
     ]
    }
   ],
   "source": [
    "#improved prime code considering else with loop\n",
    "n=int(input())\n",
    "print(\"Enter the number: \",n)\n",
    "for i in range(2,n):\n",
    "    if n%i==0:\n",
    "        print(n,\" is not a prime number\")\n",
    "        break\n",
    "else:\n",
    "    print(n, \" is a prime number\")"
   ]
  }
 ],
 "metadata": {
  "kernelspec": {
   "display_name": "Python 3",
   "language": "python",
   "name": "python3"
  },
  "language_info": {
   "codemirror_mode": {
    "name": "ipython",
    "version": 3
   },
   "file_extension": ".py",
   "mimetype": "text/x-python",
   "name": "python",
   "nbconvert_exporter": "python",
   "pygments_lexer": "ipython3",
   "version": "3.11.2"
  },
  "orig_nbformat": 4
 },
 "nbformat": 4,
 "nbformat_minor": 2
}
