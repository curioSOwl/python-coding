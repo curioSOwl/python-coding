{
 "cells": [
  {
   "cell_type": "code",
   "execution_count": 4,
   "metadata": {},
   "outputs": [
    {
     "name": "stdout",
     "output_type": "stream",
     "text": [
      "10\n"
     ]
    }
   ],
   "source": [
    "#find combination ncr\n",
    "def fact(n):\n",
    "    p=1\n",
    "    for i in range(1,n+1):\n",
    "        p=p*i\n",
    "    return p\n",
    "\n",
    "n=int(input())\n",
    "r=int(input())\n",
    "ncr=fact(n)//(fact(r)*fact(n-r))\n",
    "print(ncr)\n"
   ]
  },
  {
   "cell_type": "code",
   "execution_count": 6,
   "metadata": {},
   "outputs": [
    {
     "name": "stdout",
     "output_type": "stream",
     "text": [
      "5 7 11 13 17 19 23 "
     ]
    }
   ],
   "source": [
    "#print all prime numbers between two numbers \n",
    "def prime(n):\n",
    "    for i in range(2,n):\n",
    "        if(n%i==0):\n",
    "            break\n",
    "    else:\n",
    "        return True\n",
    "    return False\n",
    "\n",
    "n1=int(input())\n",
    "n2=int(input())\n",
    "for i in range(n1,n2+1):\n",
    "    if(prime(i)):\n",
    "        print(i,end=\" \")"
   ]
  },
  {
   "cell_type": "code",
   "execution_count": 7,
   "metadata": {},
   "outputs": [
    {
     "name": "stdout",
     "output_type": "stream",
     "text": [
      "5\n",
      "5\n"
     ]
    }
   ],
   "source": [
    "def printing(n):\n",
    "    print(n)\n",
    "    print(a3)\n",
    "a3=5   #global variable\n",
    "printing(5)\n"
   ]
  },
  {
   "cell_type": "code",
   "execution_count": 14,
   "metadata": {},
   "outputs": [
    {
     "ename": "NameError",
     "evalue": "name 'c3' is not defined",
     "output_type": "error",
     "traceback": [
      "\u001b[1;31m---------------------------------------------------------------------------\u001b[0m",
      "\u001b[1;31mNameError\u001b[0m                                 Traceback (most recent call last)",
      "Cell \u001b[1;32mIn[14], line 3\u001b[0m\n\u001b[0;32m      1\u001b[0m \u001b[39mdef\u001b[39;00m \u001b[39mf3\u001b[39m():\n\u001b[0;32m      2\u001b[0m     \u001b[39mprint\u001b[39m(c3)\n\u001b[1;32m----> 3\u001b[0m f3()\n\u001b[0;32m      4\u001b[0m c3\u001b[39m=\u001b[39m\u001b[39m20\u001b[39m\n",
      "Cell \u001b[1;32mIn[14], line 2\u001b[0m, in \u001b[0;36mf3\u001b[1;34m()\u001b[0m\n\u001b[0;32m      1\u001b[0m \u001b[39mdef\u001b[39;00m \u001b[39mf3\u001b[39m():\n\u001b[1;32m----> 2\u001b[0m     \u001b[39mprint\u001b[39m(c3)\n",
      "\u001b[1;31mNameError\u001b[0m: name 'c3' is not defined"
     ]
    }
   ],
   "source": [
    "#showing error\n",
    "def f3():\n",
    "    print(c3)\n",
    "f3()\n",
    "c3=20    #global variable but assigned after calling the function. so error"
   ]
  },
  {
   "cell_type": "code",
   "execution_count": 19,
   "metadata": {},
   "outputs": [
    {
     "name": "stdout",
     "output_type": "stream",
     "text": [
      "20  id:  140703935886728\n",
      "6  id:  140703935886280\n",
      "20  id:  140703935886728\n"
     ]
    }
   ],
   "source": [
    "c3=20   \n",
    "def f3():\n",
    "    c3=6   #localy available only for f3\n",
    "    print(c3, \" id: \",id(c3))\n",
    "print(c3, \" id: \",id(c3))\n",
    "f3()\n",
    "print(c3, \" id: \",id(c3))"
   ]
  },
  {
   "cell_type": "code",
   "execution_count": 20,
   "metadata": {},
   "outputs": [
    {
     "name": "stdout",
     "output_type": "stream",
     "text": [
      "20  id:  140703935886728\n",
      "20  id:  140703935886728\n",
      "20  id:  140703935886728\n"
     ]
    }
   ],
   "source": [
    "c3=20   \n",
    "def f3():\n",
    "    global c3  #tells to use global c3\n",
    "    print(c3, \" id: \",id(c3))\n",
    "print(c3, \" id: \",id(c3))\n",
    "f3()\n",
    "print(c3, \" id: \",id(c3))"
   ]
  },
  {
   "cell_type": "markdown",
   "metadata": {},
   "source": [
    "Default Arguments in python"
   ]
  },
  {
   "cell_type": "code",
   "execution_count": 21,
   "metadata": {},
   "outputs": [
    {
     "ename": "SyntaxError",
     "evalue": "non-default argument follows default argument (2071492165.py, line 1)",
     "output_type": "error",
     "traceback": [
      "\u001b[1;36m  Cell \u001b[1;32mIn[21], line 1\u001b[1;36m\u001b[0m\n\u001b[1;33m    def f1(a,b,c=0,d):\u001b[0m\n\u001b[1;37m                   ^\u001b[0m\n\u001b[1;31mSyntaxError\u001b[0m\u001b[1;31m:\u001b[0m non-default argument follows default argument\n"
     ]
    }
   ],
   "source": [
    "#showing error \n",
    "def f1(a,b,c=0,d):  #default valued arguments should be present after non default ones\n",
    "    print(a,\" \",b,\" \",c,\" \",d)\n",
    "f1(1,5,2)"
   ]
  },
  {
   "cell_type": "code",
   "execution_count": 22,
   "metadata": {},
   "outputs": [
    {
     "name": "stdout",
     "output_type": "stream",
     "text": [
      "1   5   2   2\n"
     ]
    }
   ],
   "source": [
    "def f1(a,b,c=5,d=2):\n",
    "    print(a,\" \",b,\" \",c,\" \",d)\n",
    "f1(1,5,2)"
   ]
  },
  {
   "cell_type": "code",
   "execution_count": 23,
   "metadata": {},
   "outputs": [
    {
     "name": "stdout",
     "output_type": "stream",
     "text": [
      "1   5   5   9\n"
     ]
    }
   ],
   "source": [
    "def f1(a,b,c=5,d=2):\n",
    "    print(a,\" \",b,\" \",c,\" \",d)\n",
    "f1(1,5,d=9)"
   ]
  },
  {
   "cell_type": "code",
   "execution_count": 25,
   "metadata": {},
   "outputs": [
    {
     "name": "stdout",
     "output_type": "stream",
     "text": [
      "5   1   1   9\n"
     ]
    }
   ],
   "source": [
    "def f1(a,b,c=5,d=2):\n",
    "    print(a,\" \",b,\" \",c,\" \",d)\n",
    "f1(c=1,a=5,b=1,d=9)"
   ]
  },
  {
   "cell_type": "code",
   "execution_count": 29,
   "metadata": {},
   "outputs": [
    {
     "name": "stdout",
     "output_type": "stream",
     "text": [
      "10   40   5\n",
      "\n",
      "10 \t -12\n",
      "15 \t -9\n",
      "20 \t -6\n",
      "25 \t -3\n",
      "30 \t -1\n",
      "35 \t 1\n"
     ]
    }
   ],
   "source": [
    "#convert Fahrenheit to celsius between start,end and step\n",
    "\n",
    "def printTable(start,end,step):\n",
    "\tfor i in range(start,end,step):\n",
    "\t\tf=(i-32)*(5/9)\n",
    "\t\tprint(i,\"\\t\",int(f))\n",
    "\n",
    "\t   \n",
    "s = int(input())\n",
    "e = int(input())\n",
    "step = int(input())\n",
    "print(s,\" \",e,\" \",step)\n",
    "print()\n",
    "printTable(s,e,step) "
   ]
  },
  {
   "cell_type": "code",
   "execution_count": 30,
   "metadata": {},
   "outputs": [
    {
     "name": "stdout",
     "output_type": "stream",
     "text": [
      "5\n",
      "true\n"
     ]
    }
   ],
   "source": [
    "#check whether a given number is present in fibonacci series or not\n",
    "\n",
    "def checkMember(n):\n",
    "    f=0\n",
    "    s=1\n",
    "    ans=0\n",
    "    if n==0 or n==1:\n",
    "        return True\n",
    "    while ans<n:\n",
    "        ans=f+s\n",
    "        f=s\n",
    "        s=ans\n",
    "        if(ans==n):\n",
    "            return True\n",
    "    return False\n",
    "\n",
    "n=int(input())\n",
    "print(n)\n",
    "if(checkMember(n)):\n",
    "    print(\"true\")\n",
    "else:\n",
    "    print(\"false\")"
   ]
  },
  {
   "cell_type": "code",
   "execution_count": 31,
   "metadata": {},
   "outputs": [
    {
     "name": "stdout",
     "output_type": "stream",
     "text": [
      "565\n",
      "true\n"
     ]
    }
   ],
   "source": [
    "#Palindrome or not\n",
    "def rev(n):\n",
    "    rem=0\n",
    "    while n>0:\n",
    "        last=n%10\n",
    "        rem=rem*10+last\n",
    "        n=n//10\n",
    "    return rem\n",
    "\n",
    "n=int(input())  \n",
    "print(n)\n",
    "a=rev(n)\n",
    "if(n==a):\n",
    "    print(\"true\")\n",
    "else:\n",
    "    print(\"false\")"
   ]
  },
  {
   "cell_type": "code",
   "execution_count": 33,
   "metadata": {},
   "outputs": [
    {
     "name": "stdout",
     "output_type": "stream",
     "text": [
      "567\n",
      "false\n"
     ]
    }
   ],
   "source": [
    "#Armstrong or not\n",
    "def num_digits(n):\n",
    "    count=0\n",
    "    while n>0:\n",
    "        n=n//10\n",
    "        count=count+1\n",
    "    return count\n",
    "n=int(input())\n",
    "print(n)\n",
    "p=n\n",
    "num=num_digits(n)\n",
    "ans=0\n",
    "while n>0:\n",
    "    ans=ans+((n%10)**num)\n",
    "    n=n//10\n",
    "if(ans==p):\n",
    "    print(\"true\")\n",
    "else:\n",
    "    print(\"false\")"
   ]
  }
 ],
 "metadata": {
  "kernelspec": {
   "display_name": "Python 3",
   "language": "python",
   "name": "python3"
  },
  "language_info": {
   "codemirror_mode": {
    "name": "ipython",
    "version": 3
   },
   "file_extension": ".py",
   "mimetype": "text/x-python",
   "name": "python",
   "nbconvert_exporter": "python",
   "pygments_lexer": "ipython3",
   "version": "3.11.2"
  }
 },
 "nbformat": 4,
 "nbformat_minor": 2
}
